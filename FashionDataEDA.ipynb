{
 "cells": [
  {
   "cell_type": "code",
   "execution_count": 1,
   "id": "dd519d8d-158b-4341-aeaf-19d0c2b19e71",
   "metadata": {},
   "outputs": [],
   "source": [
    "import pandas as pd\n",
    "from sqlalchemy import create_engine\n",
    "import matplotlib.pyplot as plt\n",
    "import seaborn as sns "
   ]
  },
  {
   "cell_type": "code",
   "execution_count": 2,
   "id": "f2293059-6896-4b42-bdf1-fa41e7f85c47",
   "metadata": {},
   "outputs": [],
   "source": [
    "db_params ={\n",
    "    'dbname':'defaultdb',\n",
    "    'user':'avnadmin',\n",
    "    'password':'AVNS_-F_GkYlAt2Dv3T_w5Kr',\n",
    "    'host':'pg-5525f8c-mutulikepher-5478.l.aivencloud.com',\n",
    "    'port':'17902'  \n",
    "}"
   ]
  },
  {
   "cell_type": "code",
   "execution_count": 3,
   "id": "14467053-a857-4763-a250-da608dd12bf0",
   "metadata": {},
   "outputs": [],
   "source": [
    "engine = create_engine(f\"postgresql://{db_params['user']}:{db_params['password']}@{db_params['host']}:{db_params['port']}/{db_params['dbname']}\")"
   ]
  },
  {
   "cell_type": "code",
   "execution_count": 4,
   "id": "8e8265ba-ea54-4825-9f20-fc7e13fee985",
   "metadata": {},
   "outputs": [],
   "source": [
    "query = 'SELECT * FROM \"FashSchema\".fashion'"
   ]
  },
  {
   "cell_type": "code",
   "execution_count": 5,
   "id": "2b5ae91f-6b66-46ac-a8a0-84816b170977",
   "metadata": {},
   "outputs": [],
   "source": [
    "df=pd.read_sql(query,engine)"
   ]
  },
  {
   "cell_type": "code",
   "execution_count": 6,
   "id": "2b607a44-bb4a-4c38-a976-999b0fc8f041",
   "metadata": {},
   "outputs": [
    {
     "data": {
      "application/vnd.microsoft.datawrangler.viewer.v0+json": {
       "columns": [
        {
         "name": "index",
         "rawType": "int64",
         "type": "integer"
        },
        {
         "name": "clothing_type",
         "rawType": "object",
         "type": "string"
        },
        {
         "name": "category",
         "rawType": "object",
         "type": "string"
        },
        {
         "name": "price",
         "rawType": "float64",
         "type": "float"
        },
        {
         "name": "discount",
         "rawType": "float64",
         "type": "float"
        },
        {
         "name": "shop_outlet",
         "rawType": "object",
         "type": "string"
        },
        {
         "name": "delivery_date",
         "rawType": "object",
         "type": "unknown"
        },
        {
         "name": "order_date",
         "rawType": "object",
         "type": "unknown"
        },
        {
         "name": "revenue",
         "rawType": "float64",
         "type": "float"
        },
        {
         "name": "customer_name",
         "rawType": "object",
         "type": "string"
        },
        {
         "name": "customer_email",
         "rawType": "object",
         "type": "string"
        }
       ],
       "conversionMethod": "pd.DataFrame",
       "ref": "b8befd06-bb36-4408-b794-1bc40735de13",
       "rows": [
        [
         "0",
         "men",
         "accessories",
         "113.84",
         "6.15",
         "Photobug",
         "2022-06-20",
         "2023-08-06",
         "1102.01",
         "Alfy Piborn",
         "apiborn0@squarespace.com"
        ],
        [
         "1",
         "men",
         "accessories",
         "60.62",
         "49.47",
         "Jetwire",
         "2024-02-06",
         "2022-01-01",
         "5521.65",
         "Demetra Stutely",
         "dstutely1@wired.com"
        ],
        [
         "2",
         "children",
         "shirts",
         "119.19",
         "41.14",
         "Edgewire",
         "2022-06-03",
         "2022-11-14",
         "7252.86",
         "Giselle Ruegg",
         "gruegg2@weebly.com"
        ],
        [
         "3",
         "men",
         "shoes",
         "43.19",
         "12.5",
         "Twitterbridge",
         "2022-11-19",
         "2024-08-01",
         "4866.12",
         "Sven Loughlin",
         "sloughlin3@surveymonkey.com"
        ],
        [
         "4",
         "women",
         "accessories",
         "116.46",
         "28.74",
         "Zoomlounge",
         "2024-12-17",
         "2024-01-29",
         "2009.4",
         "Cesya Boustead",
         "cboustead4@nps.gov"
        ]
       ],
       "shape": {
        "columns": 10,
        "rows": 5
       }
      },
      "text/html": [
       "<div>\n",
       "<style scoped>\n",
       "    .dataframe tbody tr th:only-of-type {\n",
       "        vertical-align: middle;\n",
       "    }\n",
       "\n",
       "    .dataframe tbody tr th {\n",
       "        vertical-align: top;\n",
       "    }\n",
       "\n",
       "    .dataframe thead th {\n",
       "        text-align: right;\n",
       "    }\n",
       "</style>\n",
       "<table border=\"1\" class=\"dataframe\">\n",
       "  <thead>\n",
       "    <tr style=\"text-align: right;\">\n",
       "      <th></th>\n",
       "      <th>clothing_type</th>\n",
       "      <th>category</th>\n",
       "      <th>price</th>\n",
       "      <th>discount</th>\n",
       "      <th>shop_outlet</th>\n",
       "      <th>delivery_date</th>\n",
       "      <th>order_date</th>\n",
       "      <th>revenue</th>\n",
       "      <th>customer_name</th>\n",
       "      <th>customer_email</th>\n",
       "    </tr>\n",
       "  </thead>\n",
       "  <tbody>\n",
       "    <tr>\n",
       "      <th>0</th>\n",
       "      <td>men</td>\n",
       "      <td>accessories</td>\n",
       "      <td>113.84</td>\n",
       "      <td>6.15</td>\n",
       "      <td>Photobug</td>\n",
       "      <td>2022-06-20</td>\n",
       "      <td>2023-08-06</td>\n",
       "      <td>1102.01</td>\n",
       "      <td>Alfy Piborn</td>\n",
       "      <td>apiborn0@squarespace.com</td>\n",
       "    </tr>\n",
       "    <tr>\n",
       "      <th>1</th>\n",
       "      <td>men</td>\n",
       "      <td>accessories</td>\n",
       "      <td>60.62</td>\n",
       "      <td>49.47</td>\n",
       "      <td>Jetwire</td>\n",
       "      <td>2024-02-06</td>\n",
       "      <td>2022-01-01</td>\n",
       "      <td>5521.65</td>\n",
       "      <td>Demetra Stutely</td>\n",
       "      <td>dstutely1@wired.com</td>\n",
       "    </tr>\n",
       "    <tr>\n",
       "      <th>2</th>\n",
       "      <td>children</td>\n",
       "      <td>shirts</td>\n",
       "      <td>119.19</td>\n",
       "      <td>41.14</td>\n",
       "      <td>Edgewire</td>\n",
       "      <td>2022-06-03</td>\n",
       "      <td>2022-11-14</td>\n",
       "      <td>7252.86</td>\n",
       "      <td>Giselle Ruegg</td>\n",
       "      <td>gruegg2@weebly.com</td>\n",
       "    </tr>\n",
       "    <tr>\n",
       "      <th>3</th>\n",
       "      <td>men</td>\n",
       "      <td>shoes</td>\n",
       "      <td>43.19</td>\n",
       "      <td>12.50</td>\n",
       "      <td>Twitterbridge</td>\n",
       "      <td>2022-11-19</td>\n",
       "      <td>2024-08-01</td>\n",
       "      <td>4866.12</td>\n",
       "      <td>Sven Loughlin</td>\n",
       "      <td>sloughlin3@surveymonkey.com</td>\n",
       "    </tr>\n",
       "    <tr>\n",
       "      <th>4</th>\n",
       "      <td>women</td>\n",
       "      <td>accessories</td>\n",
       "      <td>116.46</td>\n",
       "      <td>28.74</td>\n",
       "      <td>Zoomlounge</td>\n",
       "      <td>2024-12-17</td>\n",
       "      <td>2024-01-29</td>\n",
       "      <td>2009.40</td>\n",
       "      <td>Cesya Boustead</td>\n",
       "      <td>cboustead4@nps.gov</td>\n",
       "    </tr>\n",
       "  </tbody>\n",
       "</table>\n",
       "</div>"
      ],
      "text/plain": [
       "  clothing_type     category   price  discount    shop_outlet delivery_date  \\\n",
       "0           men  accessories  113.84      6.15       Photobug    2022-06-20   \n",
       "1           men  accessories   60.62     49.47        Jetwire    2024-02-06   \n",
       "2      children       shirts  119.19     41.14       Edgewire    2022-06-03   \n",
       "3           men        shoes   43.19     12.50  Twitterbridge    2022-11-19   \n",
       "4         women  accessories  116.46     28.74     Zoomlounge    2024-12-17   \n",
       "\n",
       "   order_date  revenue    customer_name               customer_email  \n",
       "0  2023-08-06  1102.01      Alfy Piborn     apiborn0@squarespace.com  \n",
       "1  2022-01-01  5521.65  Demetra Stutely          dstutely1@wired.com  \n",
       "2  2022-11-14  7252.86    Giselle Ruegg           gruegg2@weebly.com  \n",
       "3  2024-08-01  4866.12    Sven Loughlin  sloughlin3@surveymonkey.com  \n",
       "4  2024-01-29  2009.40   Cesya Boustead           cboustead4@nps.gov  "
      ]
     },
     "execution_count": 6,
     "metadata": {},
     "output_type": "execute_result"
    }
   ],
   "source": [
    "df.head()"
   ]
  },
  {
   "cell_type": "code",
   "execution_count": 7,
   "id": "6ac5fd7f-3e67-4c94-91b0-59cc2c0301e7",
   "metadata": {},
   "outputs": [
    {
     "name": "stdout",
     "output_type": "stream",
     "text": [
      "      category  Total_Revenue\n",
      "0  accessories      136665.77\n",
      "4        shoes      121015.97\n",
      "2        pants       91024.52\n",
      "1      dresses       76182.77\n",
      "3       shirts       75476.40\n"
     ]
    }
   ],
   "source": [
    "Top5Products = (\n",
    "    df.groupby('category', as_index=False)['revenue']\n",
    "    .sum()\n",
    "    .rename(columns={'revenue': 'Total_Revenue'})\n",
    "    .sort_values(by='Total_Revenue', ascending=False)\n",
    "    .head(5)\n",
    ")\n",
    "print(Top5Products)"
   ]
  },
  {
   "cell_type": "code",
   "execution_count": 8,
   "id": "f90623d4-cea7-47da-a6a3-bac9a46b8118",
   "metadata": {},
   "outputs": [
    {
     "data": {
      "image/png": "[encoded data removed]",
      "text/plain": [
       "<Figure size 1000x600 with 1 Axes>"
      ]
     },
     "metadata": {},
     "output_type": "display_data"
    }
   ],
   "source": [
    "plt.figure(figsize=(10, 6))\n",
    "sns.barplot(data=Top5Products, x='Total_Revenue', y='category', hue='category', palette='viridis', legend=False)\n",
    "plt.title(\"Top 5 Fashion Categories by Revenue\")\n",
    "plt.xlabel(\"Total_Revenue\")\n",
    "plt.ylabel(\"Category\")\n",
    "plt.tight_layout()\n",
    "plt.show()"
   ]
  },
  {
   "cell_type": "code",
   "execution_count": 9,
   "id": "c8e5ecb8-7ac4-461d-a8f9-e77cad988ec5",
   "metadata": {},
   "outputs": [
    {
     "name": "stdout",
     "output_type": "stream",
     "text": [
      "    Year  Month Number Month Name  Monthly Revenue\n",
      "0   2022             2   February          7599.88\n",
      "1   2022             3      March         24638.98\n",
      "2   2022             4      April         26944.72\n",
      "3   2022             5        May         36081.55\n",
      "4   2022             6       June         21329.57\n",
      "5   2022             7       July         26309.58\n",
      "6   2022             8     August         13195.89\n",
      "7   2022             9  September         23792.60\n",
      "8   2022            10    October         21164.94\n",
      "9   2022            11   November         16124.82\n",
      "10  2022            12   December          6874.89\n",
      "11  2023             1    January          1672.06\n",
      "12  2023             2   February         24048.19\n",
      "13  2023             3      March         17481.66\n",
      "14  2023             4      April          9106.99\n",
      "15  2023             5        May         24172.89\n",
      "16  2023             6       June          1448.99\n",
      "17  2023             7       July           754.06\n",
      "18  2023             8     August         17345.02\n",
      "19  2023            10    October         14647.62\n",
      "20  2023            11   November          7864.32\n",
      "21  2024             1    January          1362.82\n",
      "22  2024             2   February         10888.28\n",
      "23  2024             3      March          7556.94\n",
      "24  2024             4      April         13391.23\n",
      "25  2024             5        May          9064.04\n",
      "26  2024             6       June          9684.13\n",
      "27  2024             7       July          7569.30\n",
      "28  2024             8     August         21476.11\n",
      "29  2024             9  September          3227.99\n",
      "30  2024            11   November         10341.45\n",
      "31  2024            12   December          4615.46\n",
      "32  2025             1    January          8215.04\n",
      "33  2025             2   February         20071.88\n",
      "34  2025             3      March         30301.54\n"
     ]
    }
   ],
   "source": [
    "# Ensure 'delivery_date' is datetime type\n",
    "df['delivery_date'] = pd.to_datetime(df['delivery_date'])\n",
    "\n",
    "# Extract year, month number, and month name\n",
    "df['Year'] = df['delivery_date'].dt.year\n",
    "df['Month Number'] = df['delivery_date'].dt.month\n",
    "df['Month Name'] = df['delivery_date'].dt.strftime('%B')  # full month name\n",
    "\n",
    "# Group by year + month\n",
    "monthly_revenue = (\n",
    "    df.groupby(['Year', 'Month Number', 'Month Name'], as_index=False)['revenue']\n",
    "    .sum()\n",
    "    .rename(columns={'revenue': 'Monthly Revenue'})\n",
    "    .sort_values(['Year', 'Month Number'])\n",
    ")\n",
    "\n",
    "print(monthly_revenue)\n"
   ]
  },
  {
   "cell_type": "code",
   "execution_count": 10,
   "id": "5c24dc7a-3bee-412e-91ef-aa95bf599988",
   "metadata": {},
   "outputs": [
    {
     "data": {
      "image/png": "[encoded data removed]",
      "text/plain": [
       "<Figure size 1200x600 with 1 Axes>"
      ]
     },
     "metadata": {},
     "output_type": "display_data"
    }
   ],
   "source": [
    "# Combine year and month number into a proper datetime for sorting\n",
    "monthly_revenue['Year-Month'] = pd.to_datetime(\n",
    "    monthly_revenue['Year'].astype(str) + '-' + monthly_revenue['Month Number'].astype(str)\n",
    ")\n",
    "\n",
    "# Sort by Year-Month just in case\n",
    "monthly_revenue = monthly_revenue.sort_values('Year-Month')\n",
    "\n",
    "# Plot\n",
    "plt.figure(figsize=(12, 6))\n",
    "sns.lineplot(data=monthly_revenue, x='Year-Month', y='Monthly Revenue', marker='o')\n",
    "plt.title(\"Monthly Revenue Over Time\")\n",
    "plt.xlabel(\"Month\")\n",
    "plt.ylabel(\"Revenue\")\n",
    "plt.xticks(rotation=45)\n",
    "plt.tight_layout()\n",
    "plt.grid(True)\n",
    "plt.show()\n"
   ]
  },
  {
   "cell_type": "code",
   "execution_count": 11,
   "id": "ebb93834-3f47-477a-b964-b69cf4c651e5",
   "metadata": {},
   "outputs": [],
   "source": [
    "df['order_date'] = pd.to_datetime(df['order_date'])\n",
    "# Extract Day of the Week (0 = Sunday, 6 = Saturday)\n",
    "df['Day of the Week'] = df['order_date'].dt.dayofweek  # 0 = Monday, 6 = Sunday if using `.dayofweek`, otherwise use `.weekday()`\n",
    "\n",
    "# Group and summarize revenue\n",
    "dow_sales = (\n",
    "    df.groupby('Day of the Week', as_index=False)['revenue']\n",
    "    .sum()\n",
    "    .rename(columns={'revenue': 'Day of the Week Sales'})\n",
    "    .sort_values('Day of the Week')\n",
    ")\n",
    "# Mapping: 0 = Monday ... 6 = Sunday\n",
    "day_names = ['Monday', 'Tuesday', 'Wednesday', 'Thursday', 'Friday', 'Saturday', 'Sunday']\n",
    "dow_sales['Day Name'] = dow_sales['Day of the Week'].map(lambda x: day_names[x])\n"
   ]
  },
  {
   "cell_type": "code",
   "execution_count": 12,
   "id": "0ff35a52-e1da-40d7-a337-62bb0339fbfd",
   "metadata": {},
   "outputs": [
    {
     "name": "stderr",
     "output_type": "stream",
     "text": [
      "C:\\Users\\sangk\\AppData\\Local\\Temp\\ipykernel_15956\\4000691096.py:2: FutureWarning: \n",
      "\n",
      "Passing `palette` without assigning `hue` is deprecated and will be removed in v0.14.0. Assign the `x` variable to `hue` and set `legend=False` for the same effect.\n",
      "\n",
      "  sns.barplot(data=dow_sales, x='Day Name', y='Day of the Week Sales', palette='Set2')\n"
     ]
    },
    {
     "data": {
      "image/png": "[encoded data removed]",
      "text/plain": [
       "<Figure size 1000x600 with 1 Axes>"
      ]
     },
     "metadata": {},
     "output_type": "display_data"
    }
   ],
   "source": [
    "plt.figure(figsize=(10, 6))\n",
    "sns.barplot(data=dow_sales, x='Day Name', y='Day of the Week Sales', palette='Set2')\n",
    "\n",
    "plt.title(\"Sales by Day of the Week\")\n",
    "plt.xlabel(\"Day\")\n",
    "plt.ylabel(\"Total Sales\")\n",
    "plt.xticks(rotation=45)\n",
    "plt.grid(axis='y')\n",
    "plt.tight_layout()\n",
    "plt.show()"
   ]
  },
  {
   "cell_type": "code",
   "execution_count": 13,
   "id": "b5b3245b-a00d-4658-b734-7db414182612",
   "metadata": {},
   "outputs": [],
   "source": [
    "top_customers = (\n",
    "    df.groupby('customer_name', as_index=False)['revenue']\n",
    "    .sum()\n",
    "    .rename(columns={'revenue': 'Total_Revenue'})\n",
    "    .sort_values('Total_Revenue', ascending=False)\n",
    "    .head(10)\n",
    ")"
   ]
  },
  {
   "cell_type": "code",
   "execution_count": 14,
   "id": "d36351f7-09f4-4ee0-9df0-c8dc791e3860",
   "metadata": {},
   "outputs": [
    {
     "name": "stderr",
     "output_type": "stream",
     "text": [
      "C:\\Users\\sangk\\AppData\\Local\\Temp\\ipykernel_15956\\4059582943.py:2: FutureWarning: \n",
      "\n",
      "Passing `palette` without assigning `hue` is deprecated and will be removed in v0.14.0. Assign the `y` variable to `hue` and set `legend=False` for the same effect.\n",
      "\n",
      "  sns.barplot(data=top_customers, x='Total_Revenue', y='customer_name', palette='Blues_r')\n"
     ]
    },
    {
     "data": {
      "image/png": "[encoded data removed]",
      "text/plain": [
       "<Figure size 1000x600 with 1 Axes>"
      ]
     },
     "metadata": {},
     "output_type": "display_data"
    }
   ],
   "source": [
    "plt.figure(figsize=(10, 6))\n",
    "sns.barplot(data=top_customers, x='Total_Revenue', y='customer_name', palette='Blues_r')\n",
    "\n",
    "plt.title(\"Top 10 Customers by Revenue\")\n",
    "plt.xlabel(\"Total Revenue\")\n",
    "plt.ylabel(\"Customer Name\")\n",
    "plt.tight_layout()\n",
    "plt.grid(axis='x')\n",
    "plt.show()"
   ]
  },
  {
   "cell_type": "code",
   "execution_count": 15,
   "id": "c8b3edd7-0319-4e6c-8b90-6d857ae0f137",
   "metadata": {},
   "outputs": [],
   "source": [
    "customer_counts = (\n",
    "    df.groupby('customer_name')\n",
    "    .size()  # equivalent to COUNT(*)\n",
    "    .reset_index(name='Transaction_Count')\n",
    "    .sort_values('Transaction_Count')  # ascending by default\n",
    ")"
   ]
  },
  {
   "cell_type": "code",
   "execution_count": 16,
   "id": "26ea6590-8fed-4c6a-a077-6572d69136ef",
   "metadata": {},
   "outputs": [
    {
     "data": {
      "image/png": "[encoded data removed]",
      "text/plain": [
       "<Figure size 400x200 with 1 Axes>"
      ]
     },
     "metadata": {},
     "output_type": "display_data"
    }
   ],
   "source": [
    "total_customers = customer_counts['customer_name'].nunique()\n",
    "\n",
    "# Card-style plot\n",
    "plt.figure(figsize=(4, 2))\n",
    "plt.text(0.5, 0.5, f'Total Customers\\n{total_customers}', \n",
    "         fontsize=18, ha='center', va='center')\n",
    "plt.axis('off')  # Remove axes\n",
    "plt.title(\"Customer Summary\", fontsize=14)\n",
    "plt.tight_layout()\n",
    "plt.show()"
   ]
  },
  {
   "cell_type": "code",
   "execution_count": 17,
   "id": "7a08aded-a2fb-4445-906c-b025cff57388",
   "metadata": {},
   "outputs": [],
   "source": [
    "df['order_date'] = pd.to_datetime(df['order_date'])\n",
    "\n",
    "# Count number of purchases per customer\n",
    "customer_orders = df.groupby('customer_name').size().reset_index(name='order_count')\n",
    "\n",
    "# Classify customers\n",
    "new_customers = customer_orders[customer_orders['order_count'] == 1]\n",
    "repeat_customers = customer_orders[customer_orders['order_count'] > 1]\n",
    "\n",
    "# Count them\n",
    "new_count = new_customers.shape[0]\n",
    "repeat_count = repeat_customers.shape[0]"
   ]
  },
  {
   "cell_type": "code",
   "execution_count": 18,
   "id": "c76dad95",
   "metadata": {},
   "outputs": [
    {
     "name": "stdout",
     "output_type": "stream",
     "text": [
      "Requirement already satisfied: plotly in c:\\users\\sangk\\appdata\\local\\programs\\python\\python313\\lib\\site-packages (6.0.1)\n",
      "Requirement already satisfied: narwhals>=1.15.1 in c:\\users\\sangk\\appdata\\local\\programs\\python\\python313\\lib\\site-packages (from plotly) (1.34.1)\n",
      "Requirement already satisfied: packaging in c:\\users\\sangk\\appdata\\roaming\\python\\python313\\site-packages (from plotly) (24.2)\n",
      "Note: you may need to restart the kernel to use updated packages.\n"
     ]
    }
   ],
   "source": [
    "pip install plotly"
   ]
  },
  {
   "cell_type": "code",
   "execution_count": 19,
   "id": "ad3c77fd",
   "metadata": {},
   "outputs": [
    {
     "name": "stdout",
     "output_type": "stream",
     "text": [
      "Requirement already satisfied: nbformat in c:\\users\\sangk\\appdata\\local\\programs\\python\\python313\\lib\\site-packages (5.10.4)\n",
      "Requirement already satisfied: fastjsonschema>=2.15 in c:\\users\\sangk\\appdata\\local\\programs\\python\\python313\\lib\\site-packages (from nbformat) (2.21.1)\n",
      "Requirement already satisfied: jsonschema>=2.6 in c:\\users\\sangk\\appdata\\local\\programs\\python\\python313\\lib\\site-packages (from nbformat) (4.23.0)\n",
      "Requirement already satisfied: jupyter-core!=5.0.*,>=4.12 in c:\\users\\sangk\\appdata\\roaming\\python\\python313\\site-packages (from nbformat) (5.7.2)\n",
      "Requirement already satisfied: traitlets>=5.1 in c:\\users\\sangk\\appdata\\roaming\\python\\python313\\site-packages (from nbformat) (5.14.3)\n",
      "Requirement already satisfied: attrs>=22.2.0 in c:\\users\\sangk\\appdata\\local\\programs\\python\\python313\\lib\\site-packages (from jsonschema>=2.6->nbformat) (25.3.0)\n",
      "Requirement already satisfied: jsonschema-specifications>=2023.03.6 in c:\\users\\sangk\\appdata\\local\\programs\\python\\python313\\lib\\site-packages (from jsonschema>=2.6->nbformat) (2024.10.1)\n",
      "Requirement already satisfied: referencing>=0.28.4 in c:\\users\\sangk\\appdata\\local\\programs\\python\\python313\\lib\\site-packages (from jsonschema>=2.6->nbformat) (0.36.2)\n",
      "Requirement already satisfied: rpds-py>=0.7.1 in c:\\users\\sangk\\appdata\\local\\programs\\python\\python313\\lib\\site-packages (from jsonschema>=2.6->nbformat) (0.24.0)\n",
      "Requirement already satisfied: platformdirs>=2.5 in c:\\users\\sangk\\appdata\\roaming\\python\\python313\\site-packages (from jupyter-core!=5.0.*,>=4.12->nbformat) (4.3.6)\n",
      "Requirement already satisfied: pywin32>=300 in c:\\users\\sangk\\appdata\\roaming\\python\\python313\\site-packages (from jupyter-core!=5.0.*,>=4.12->nbformat) (308)\n",
      "Note: you may need to restart the kernel to use updated packages.\n"
     ]
    }
   ],
   "source": [
    "pip install nbformat"
   ]
  },
  {
   "cell_type": "code",
   "execution_count": 20,
   "id": "abc1638c-78e2-4d05-b6d8-655d51a343f2",
   "metadata": {},
   "outputs": [],
   "source": [
    "import plotly.graph_objects as go\n",
    "from plotly.subplots import make_subplots"
   ]
  },
  {
   "cell_type": "code",
   "execution_count": 21,
   "id": "bb9afced-410f-44ae-93b4-518774697f85",
   "metadata": {},
   "outputs": [
    {
     "data": {
      "application/vnd.plotly.v1+json": {
       "config": {
        "plotlyServerURL": "https://plot.ly"
       },
       "data": [
        {
         "domain": {
          "x": [
           0,
           0.45
          ],
          "y": [
           0,
           1
          ]
         },
         "mode": "number",
         "number": {
          "font": {
           "color": "green",
           "size": 48
          }
         },
         "title": {
          "text": "New Customers"
         },
         "type": "indicator",
         "value": 100
        },
        {
         "domain": {
          "x": [
           0.55,
           1
          ],
          "y": [
           0,
           1
          ]
         },
         "mode": "number",
         "number": {
          "font": {
           "color": "blue",
           "size": 48
          }
         },
         "title": {
          "text": "Repeat Customers"
         },
         "type": "indicator",
         "value": 0
        }
       ],
       "layout": {
        "height": 300,
        "template": {
         "data": {
          "bar": [
           {
            "error_x": {
             "color": "rgb(36,36,36)"
            },
            "error_y": {
             "color": "rgb(36,36,36)"
            },
            "marker": {
             "line": {
              "color": "white",
              "width": 0.5
             },
             "pattern": {
              "fillmode": "overlay",
              "size": 10,
              "solidity": 0.2
             }
            },
            "type": "bar"
           }
          ],
          "barpolar": [
           {
            "marker": {
             "line": {
              "color": "white",
              "width": 0.5
             },
             "pattern": {
              "fillmode": "overlay",
              "size": 10,
              "solidity": 0.2
             }
            },
            "type": "barpolar"
           }
          ],
          "carpet": [
           {
            "aaxis": {
             "endlinecolor": "rgb(36,36,36)",
             "gridcolor": "white",
             "linecolor": "white",
             "minorgridcolor": "white",
             "startlinecolor": "rgb(36,36,36)"
            },
            "baxis": {
             "endlinecolor": "rgb(36,36,36)",
             "gridcolor": "white",
             "linecolor": "white",
             "minorgridcolor": "white",
             "startlinecolor": "rgb(36,36,36)"
            },
            "type": "carpet"
           }
          ],
          "choropleth": [
           {
            "colorbar": {
             "outlinewidth": 1,
             "tickcolor": "rgb(36,36,36)",
             "ticks": "outside"
            },
            "type": "choropleth"
           }
          ],
          "contour": [
           {
            "colorbar": {
             "outlinewidth": 1,
             "tickcolor": "rgb(36,36,36)",
             "ticks": "outside"
            },
            "colorscale": [
             [
              0,
              "#440154"
             ],
             [
              0.1111111111111111,
              "#482878"
             ],
             [
              0.2222222222222222,
              "#3e4989"
             ],
             [
              0.3333333333333333,
              "#31688e"
             ],
             [
              0.4444444444444444,
              "#26828e"
             ],
             [
              0.5555555555555556,
              "#1f9e89"
             ],
             [
              0.6666666666666666,
              "#35b779"
             ],
             [
              0.7777777777777778,
              "#6ece58"
             ],
             [
              0.8888888888888888,
              "#b5de2b"
             ],
             [
              1,
              "#fde725"
             ]
            ],
            "type": "contour"
           }
          ],
          "contourcarpet": [
           {
            "colorbar": {
             "outlinewidth": 1,
             "tickcolor": "rgb(36,36,36)",
             "ticks": "outside"
            },
            "type": "contourcarpet"
           }
          ],
          "heatmap": [
           {
            "colorbar": {
             "outlinewidth": 1,
             "tickcolor": "rgb(36,36,36)",
             "ticks": "outside"
            },
            "colorscale": [
             [
              0,
              "#440154"
             ],
             [
              0.1111111111111111,
              "#482878"
             ],
             [
              0.2222222222222222,
              "#3e4989"
             ],
             [
              0.3333333333333333,
              "#31688e"
             ],
             [
              0.4444444444444444,
              "#26828e"
             ],
             [
              0.5555555555555556,
              "#1f9e89"
             ],
             [
              0.6666666666666666,
              "#35b779"
             ],
             [
              0.7777777777777778,
              "#6ece58"
             ],
             [
              0.8888888888888888,
              "#b5de2b"
             ],
             [
              1,
              "#fde725"
             ]
            ],
            "type": "heatmap"
           }
          ],
          "histogram": [
           {
            "marker": {
             "line": {
              "color": "white",
              "width": 0.6
             }
            },
            "type": "histogram"
           }
          ],
          "histogram2d": [
           {
            "colorbar": {
             "outlinewidth": 1,
             "tickcolor": "rgb(36,36,36)",
             "ticks": "outside"
            },
            "colorscale": [
             [
              0,
              "#440154"
             ],
             [
              0.1111111111111111,
              "#482878"
             ],
             [
              0.2222222222222222,
              "#3e4989"
             ],
             [
              0.3333333333333333,
              "#31688e"
             ],
             [
              0.4444444444444444,
              "#26828e"
             ],
             [
              0.5555555555555556,
              "#1f9e89"
             ],
             [
              0.6666666666666666,
              "#35b779"
             ],
             [
              0.7777777777777778,
              "#6ece58"
             ],
             [
              0.8888888888888888,
              "#b5de2b"
             ],
             [
              1,
              "#fde725"
             ]
            ],
            "type": "histogram2d"
           }
          ],
          "histogram2dcontour": [
           {
            "colorbar": {
             "outlinewidth": 1,
             "tickcolor": "rgb(36,36,36)",
             "ticks": "outside"
            },
            "colorscale": [
             [
              0,
              "#440154"
             ],
             [
              0.1111111111111111,
              "#482878"
             ],
             [
              0.2222222222222222,
              "#3e4989"
             ],
             [
              0.3333333333333333,
              "#31688e"
             ],
             [
              0.4444444444444444,
              "#26828e"
             ],
             [
              0.5555555555555556,
              "#1f9e89"
             ],
             [
              0.6666666666666666,
              "#35b779"
             ],
             [
              0.7777777777777778,
              "#6ece58"
             ],
             [
              0.8888888888888888,
              "#b5de2b"
             ],
             [
              1,
              "#fde725"
             ]
            ],
            "type": "histogram2dcontour"
           }
          ],
          "mesh3d": [
           {
            "colorbar": {
             "outlinewidth": 1,
             "tickcolor": "rgb(36,36,36)",
             "ticks": "outside"
            },
            "type": "mesh3d"
           }
          ],
          "parcoords": [
           {
            "line": {
             "colorbar": {
              "outlinewidth": 1,
              "tickcolor": "rgb(36,36,36)",
              "ticks": "outside"
             }
            },
            "type": "parcoords"
           }
          ],
          "pie": [
           {
            "automargin": true,
            "type": "pie"
           }
          ],
          "scatter": [
           {
            "fillpattern": {
             "fillmode": "overlay",
             "size": 10,
             "solidity": 0.2
            },
            "type": "scatter"
           }
          ],
          "scatter3d": [
           {
            "line": {
             "colorbar": {
              "outlinewidth": 1,
              "tickcolor": "rgb(36,36,36)",
              "ticks": "outside"
             }
            },
            "marker": {
             "colorbar": {
              "outlinewidth": 1,
              "tickcolor": "rgb(36,36,36)",
              "ticks": "outside"
             }
            },
            "type": "scatter3d"
           }
          ],
          "scattercarpet": [
           {
            "marker": {
             "colorbar": {
              "outlinewidth": 1,
              "tickcolor": "rgb(36,36,36)",
              "ticks": "outside"
             }
            },
            "type": "scattercarpet"
           }
          ],
          "scattergeo": [
           {
            "marker": {
             "colorbar": {
              "outlinewidth": 1,
              "tickcolor": "rgb(36,36,36)",
              "ticks": "outside"
             }
            },
            "type": "scattergeo"
           }
          ],
          "scattergl": [
           {
            "marker": {
             "colorbar": {
              "outlinewidth": 1,
              "tickcolor": "rgb(36,36,36)",
              "ticks": "outside"
             }
            },
            "type": "scattergl"
           }
          ],
          "scattermap": [
           {
            "marker": {
             "colorbar": {
              "outlinewidth": 1,
              "tickcolor": "rgb(36,36,36)",
              "ticks": "outside"
             }
            },
            "type": "scattermap"
           }
          ],
          "scattermapbox": [
           {
            "marker": {
             "colorbar": {
              "outlinewidth": 1,
              "tickcolor": "rgb(36,36,36)",
              "ticks": "outside"
             }
            },
            "type": "scattermapbox"
           }
          ],
          "scatterpolar": [
           {
            "marker": {
             "colorbar": {
              "outlinewidth": 1,
              "tickcolor": "rgb(36,36,36)",
              "ticks": "outside"
             }
            },
            "type": "scatterpolar"
           }
          ],
          "scatterpolargl": [
           {
            "marker": {
             "colorbar": {
              "outlinewidth": 1,
              "tickcolor": "rgb(36,36,36)",
              "ticks": "outside"
             }
            },
            "type": "scatterpolargl"
           }
          ],
          "scatterternary": [
           {
            "marker": {
             "colorbar": {
              "outlinewidth": 1,
              "tickcolor": "rgb(36,36,36)",
              "ticks": "outside"
             }
            },
            "type": "scatterternary"
           }
          ],
          "surface": [
           {
            "colorbar": {
             "outlinewidth": 1,
             "tickcolor": "rgb(36,36,36)",
             "ticks": "outside"
            },
            "colorscale": [
             [
              0,
              "#440154"
             ],
             [
              0.1111111111111111,
              "#482878"
             ],
             [
              0.2222222222222222,
              "#3e4989"
             ],
             [
              0.3333333333333333,
              "#31688e"
             ],
             [
              0.4444444444444444,
              "#26828e"
             ],
             [
              0.5555555555555556,
              "#1f9e89"
             ],
             [
              0.6666666666666666,
              "#35b779"
             ],
             [
              0.7777777777777778,
              "#6ece58"
             ],
             [
              0.8888888888888888,
              "#b5de2b"
             ],
             [
              1,
              "#fde725"
             ]
            ],
            "type": "surface"
           }
          ],
          "table": [
           {
            "cells": {
             "fill": {
              "color": "rgb(237,237,237)"
             },
             "line": {
              "color": "white"
             }
            },
            "header": {
             "fill": {
              "color": "rgb(217,217,217)"
             },
             "line": {
              "color": "white"
             }
            },
            "type": "table"
           }
          ]
         },
         "layout": {
          "annotationdefaults": {
           "arrowhead": 0,
           "arrowwidth": 1
          },
          "autotypenumbers": "strict",
          "coloraxis": {
           "colorbar": {
            "outlinewidth": 1,
            "tickcolor": "rgb(36,36,36)",
            "ticks": "outside"
           }
          },
          "colorscale": {
           "diverging": [
            [
             0,
             "rgb(103,0,31)"
            ],
            [
             0.1,
             "rgb(178,24,43)"
            ],
            [
             0.2,
             "rgb(214,96,77)"
            ],
            [
             0.3,
             "rgb(244,165,130)"
            ],
            [
             0.4,
             "rgb(253,219,199)"
            ],
            [
             0.5,
             "rgb(247,247,247)"
            ],
            [
             0.6,
             "rgb(209,229,240)"
            ],
            [
             0.7,
             "rgb(146,197,222)"
            ],
            [
             0.8,
             "rgb(67,147,195)"
            ],
            [
             0.9,
             "rgb(33,102,172)"
            ],
            [
             1,
             "rgb(5,48,97)"
            ]
           ],
           "sequential": [
            [
             0,
             "#440154"
            ],
            [
             0.1111111111111111,
             "#482878"
            ],
            [
             0.2222222222222222,
             "#3e4989"
            ],
            [
             0.3333333333333333,
             "#31688e"
            ],
            [
             0.4444444444444444,
             "#26828e"
            ],
            [
             0.5555555555555556,
             "#1f9e89"
            ],
            [
             0.6666666666666666,
             "#35b779"
            ],
            [
             0.7777777777777778,
             "#6ece58"
            ],
            [
             0.8888888888888888,
             "#b5de2b"
            ],
            [
             1,
             "#fde725"
            ]
           ],
           "sequentialminus": [
            [
             0,
             "#440154"
            ],
            [
             0.1111111111111111,
             "#482878"
            ],
            [
             0.2222222222222222,
             "#3e4989"
            ],
            [
             0.3333333333333333,
             "#31688e"
            ],
            [
             0.4444444444444444,
             "#26828e"
            ],
            [
             0.5555555555555556,
             "#1f9e89"
            ],
            [
             0.6666666666666666,
             "#35b779"
            ],
            [
             0.7777777777777778,
             "#6ece58"
            ],
            [
             0.8888888888888888,
             "#b5de2b"
            ],
            [
             1,
             "#fde725"
            ]
           ]
          },
          "colorway": [
           "#1F77B4",
           "#FF7F0E",
           "#2CA02C",
           "#D62728",
           "#9467BD",
           "#8C564B",
           "#E377C2",
           "#7F7F7F",
           "#BCBD22",
           "#17BECF"
          ],
          "font": {
           "color": "rgb(36,36,36)"
          },
          "geo": {
           "bgcolor": "white",
           "lakecolor": "white",
           "landcolor": "white",
           "showlakes": true,
           "showland": true,
           "subunitcolor": "white"
          },
          "hoverlabel": {
           "align": "left"
          },
          "hovermode": "closest",
          "mapbox": {
           "style": "light"
          },
          "paper_bgcolor": "white",
          "plot_bgcolor": "white",
          "polar": {
           "angularaxis": {
            "gridcolor": "rgb(232,232,232)",
            "linecolor": "rgb(36,36,36)",
            "showgrid": false,
            "showline": true,
            "ticks": "outside"
           },
           "bgcolor": "white",
           "radialaxis": {
            "gridcolor": "rgb(232,232,232)",
            "linecolor": "rgb(36,36,36)",
            "showgrid": false,
            "showline": true,
            "ticks": "outside"
           }
          },
          "scene": {
           "xaxis": {
            "backgroundcolor": "white",
            "gridcolor": "rgb(232,232,232)",
            "gridwidth": 2,
            "linecolor": "rgb(36,36,36)",
            "showbackground": true,
            "showgrid": false,
            "showline": true,
            "ticks": "outside",
            "zeroline": false,
            "zerolinecolor": "rgb(36,36,36)"
           },
           "yaxis": {
            "backgroundcolor": "white",
            "gridcolor": "rgb(232,232,232)",
            "gridwidth": 2,
            "linecolor": "rgb(36,36,36)",
            "showbackground": true,
            "showgrid": false,
            "showline": true,
            "ticks": "outside",
            "zeroline": false,
            "zerolinecolor": "rgb(36,36,36)"
           },
           "zaxis": {
            "backgroundcolor": "white",
            "gridcolor": "rgb(232,232,232)",
            "gridwidth": 2,
            "linecolor": "rgb(36,36,36)",
            "showbackground": true,
            "showgrid": false,
            "showline": true,
            "ticks": "outside",
            "zeroline": false,
            "zerolinecolor": "rgb(36,36,36)"
           }
          },
          "shapedefaults": {
           "fillcolor": "black",
           "line": {
            "width": 0
           },
           "opacity": 0.3
          },
          "ternary": {
           "aaxis": {
            "gridcolor": "rgb(232,232,232)",
            "linecolor": "rgb(36,36,36)",
            "showgrid": false,
            "showline": true,
            "ticks": "outside"
           },
           "baxis": {
            "gridcolor": "rgb(232,232,232)",
            "linecolor": "rgb(36,36,36)",
            "showgrid": false,
            "showline": true,
            "ticks": "outside"
           },
           "bgcolor": "white",
           "caxis": {
            "gridcolor": "rgb(232,232,232)",
            "linecolor": "rgb(36,36,36)",
            "showgrid": false,
            "showline": true,
            "ticks": "outside"
           }
          },
          "title": {
           "x": 0.05
          },
          "xaxis": {
           "automargin": true,
           "gridcolor": "rgb(232,232,232)",
           "linecolor": "rgb(36,36,36)",
           "showgrid": false,
           "showline": true,
           "ticks": "outside",
           "title": {
            "standoff": 15
           },
           "zeroline": false,
           "zerolinecolor": "rgb(36,36,36)"
          },
          "yaxis": {
           "automargin": true,
           "gridcolor": "rgb(232,232,232)",
           "linecolor": "rgb(36,36,36)",
           "showgrid": false,
           "showline": true,
           "ticks": "outside",
           "title": {
            "standoff": 15
           },
           "zeroline": false,
           "zerolinecolor": "rgb(36,36,36)"
          }
         }
        },
        "title": {
         "font": {
          "size": 20
         },
         "text": "Customer Breakdown"
        }
       }
      }
     },
     "metadata": {},
     "output_type": "display_data"
    }
   ],
   "source": [
    "\n",
    "# Create subplot with 1 row, 2 columns\n",
    "fig = make_subplots(rows=1, cols=2, specs=[[{\"type\": \"indicator\"}, {\"type\": \"indicator\"}]])\n",
    "\n",
    "# New Customers Card\n",
    "fig.add_trace(\n",
    "    go.Indicator(\n",
    "        mode=\"number\",\n",
    "        value=new_count,\n",
    "        title={\"text\": \"New Customers\"},\n",
    "        number={\"font\": {\"size\": 48, \"color\": \"green\"}},\n",
    "    ),\n",
    "    row=1, col=1\n",
    ")\n",
    "\n",
    "# Repeat Customers Card\n",
    "fig.add_trace(\n",
    "    go.Indicator(\n",
    "        mode=\"number\",\n",
    "        value=repeat_count,\n",
    "        title={\"text\": \"Repeat Customers\"},\n",
    "        number={\"font\": {\"size\": 48, \"color\": \"blue\"}},\n",
    "    ),\n",
    "    row=1, col=2\n",
    ")\n",
    "\n",
    "fig.update_layout(\n",
    "    title_text=\"Customer Breakdown\",\n",
    "    title_font_size=20,\n",
    "    height=300,\n",
    "    template=\"simple_white\"\n",
    ")\n",
    "\n",
    "fig.show()\n"
   ]
  },
  {
   "cell_type": "code",
   "execution_count": 22,
   "id": "dd274167-403d-4726-9507-b21b74c29e5a",
   "metadata": {},
   "outputs": [
    {
     "name": "stderr",
     "output_type": "stream",
     "text": [
      "C:\\Users\\sangk\\AppData\\Local\\Temp\\ipykernel_15956\\4110002601.py:14: FutureWarning:\n",
      "\n",
      "\n",
      "\n",
      "Passing `palette` without assigning `hue` is deprecated and will be removed in v0.14.0. Assign the `y` variable to `hue` and set `legend=False` for the same effect.\n",
      "\n",
      "\n"
     ]
    },
    {
     "data": {
      "image/png": "[encoded data removed]",
      "text/plain": [
       "<Figure size 1000x500 with 1 Axes>"
      ]
     },
     "metadata": {},
     "output_type": "display_data"
    }
   ],
   "source": [
    "# Assuming df is your DataFrame and has a 'shop_outlet' column\n",
    "shop_counts = (\n",
    "    df.groupby('shop_outlet')\n",
    "    .size()\n",
    "    .reset_index(name='Total_Shops')\n",
    "    .sort_values('Total_Shops', ascending=False)\n",
    ")\n",
    "\n",
    "# Limit to Top 5\n",
    "top5_shops = shop_counts.head(5)\n",
    "\n",
    "# Plot\n",
    "plt.figure(figsize=(10, 5))\n",
    "sns.barplot(data=top5_shops, x='Total_Shops', y='shop_outlet', palette='magma')\n",
    "\n",
    "plt.title(\"Top 5 Shop Outlets by Number of Transactions\")\n",
    "plt.xlabel(\"Total Transactions\")\n",
    "plt.ylabel(\"Shop Outlet\")\n",
    "plt.tight_layout()\n",
    "plt.grid(axis='x')\n",
    "plt.show()"
   ]
  },
  {
   "cell_type": "code",
   "execution_count": 23,
   "id": "8f577542-0168-4ff3-a4b4-d74d5871d9c6",
   "metadata": {},
   "outputs": [],
   "source": [
    "# Ensure 'order_date' is in datetime format\n",
    "df['order_date'] = pd.to_datetime(df['order_date'])\n",
    "\n",
    "# Create 'day_type' column based on day of week\n",
    "df['day_type'] = df['order_date'].dt.dayofweek.apply(lambda x: 'Weekend' if x in [5, 6] else 'Weekday')\n",
    "\n",
    "# Group by 'day_type' and count sales\n",
    "sales_by_day_type = (\n",
    "    df.groupby('day_type')\n",
    "    .size()\n",
    "    .reset_index(name='TotalSales')\n",
    "    .sort_values('TotalSales', ascending=False)\n",
    ")\n"
   ]
  },
  {
   "cell_type": "code",
   "execution_count": 24,
   "id": "77a696ae-b1fa-44cc-840d-be67d81b067d",
   "metadata": {},
   "outputs": [
    {
     "name": "stderr",
     "output_type": "stream",
     "text": [
      "C:\\Users\\sangk\\AppData\\Local\\Temp\\ipykernel_15956\\3761346555.py:2: FutureWarning:\n",
      "\n",
      "\n",
      "\n",
      "Passing `palette` without assigning `hue` is deprecated and will be removed in v0.14.0. Assign the `x` variable to `hue` and set `legend=False` for the same effect.\n",
      "\n",
      "\n"
     ]
    },
    {
     "data": {
      "image/png": "[encoded data removed]",
      "text/plain": [
       "<Figure size 600x400 with 1 Axes>"
      ]
     },
     "metadata": {},
     "output_type": "display_data"
    }
   ],
   "source": [
    "plt.figure(figsize=(6, 4))\n",
    "sns.barplot(data=sales_by_day_type, x='day_type', y='TotalSales', palette='pastel')\n",
    "\n",
    "plt.title(\"Sales: Weekdays vs Weekends\")\n",
    "plt.xlabel(\"Day Type\")\n",
    "plt.ylabel(\"Total Sales\")\n",
    "plt.tight_layout()\n",
    "plt.grid(axis='y')\n",
    "plt.show()"
   ]
  },
  {
   "cell_type": "code",
   "execution_count": 30,
   "id": "b2487891",
   "metadata": {},
   "outputs": [
    {
     "data": {
      "application/vnd.microsoft.datawrangler.viewer.v0+json": {
       "columns": [
        {
         "name": "index",
         "rawType": "int64",
         "type": "integer"
        },
        {
         "name": "clothing_type",
         "rawType": "object",
         "type": "string"
        },
        {
         "name": "category",
         "rawType": "object",
         "type": "string"
        },
        {
         "name": "price",
         "rawType": "float64",
         "type": "float"
        },
        {
         "name": "discount",
         "rawType": "float64",
         "type": "float"
        },
        {
         "name": "shop_outlet",
         "rawType": "object",
         "type": "string"
        },
        {
         "name": "delivery_date",
         "rawType": "datetime64[ns]",
         "type": "datetime"
        },
        {
         "name": "order_date",
         "rawType": "datetime64[ns]",
         "type": "datetime"
        },
        {
         "name": "revenue",
         "rawType": "float64",
         "type": "float"
        },
        {
         "name": "customer_name",
         "rawType": "object",
         "type": "string"
        },
        {
         "name": "customer_email",
         "rawType": "object",
         "type": "string"
        },
        {
         "name": "Year",
         "rawType": "int32",
         "type": "integer"
        },
        {
         "name": "Month Number",
         "rawType": "int32",
         "type": "integer"
        },
        {
         "name": "Month Name",
         "rawType": "object",
         "type": "string"
        },
        {
         "name": "Day of the Week",
         "rawType": "int32",
         "type": "integer"
        },
        {
         "name": "day_type",
         "rawType": "object",
         "type": "string"
        }
       ],
       "conversionMethod": "pd.DataFrame",
       "ref": "5582b0e3-cf55-470a-9997-a15b597503ba",
       "rows": [
        [
         "0",
         "men",
         "accessories",
         "113.84",
         "6.15",
         "Photobug",
         "2022-06-20 00:00:00",
         "2023-08-06 00:00:00",
         "1102.01",
         "Alfy Piborn",
         "apiborn0@squarespace.com",
         "2022",
         "6",
         "June",
         "6",
         "Weekend"
        ],
        [
         "1",
         "men",
         "accessories",
         "60.62",
         "49.47",
         "Jetwire",
         "2024-02-06 00:00:00",
         "2022-01-01 00:00:00",
         "5521.65",
         "Demetra Stutely",
         "dstutely1@wired.com",
         "2024",
         "2",
         "February",
         "5",
         "Weekend"
        ],
        [
         "2",
         "children",
         "shirts",
         "119.19",
         "41.14",
         "Edgewire",
         "2022-06-03 00:00:00",
         "2022-11-14 00:00:00",
         "7252.86",
         "Giselle Ruegg",
         "gruegg2@weebly.com",
         "2022",
         "6",
         "June",
         "0",
         "Weekday"
        ],
        [
         "3",
         "men",
         "shoes",
         "43.19",
         "12.5",
         "Twitterbridge",
         "2022-11-19 00:00:00",
         "2024-08-01 00:00:00",
         "4866.12",
         "Sven Loughlin",
         "sloughlin3@surveymonkey.com",
         "2022",
         "11",
         "November",
         "3",
         "Weekday"
        ],
        [
         "4",
         "women",
         "accessories",
         "116.46",
         "28.74",
         "Zoomlounge",
         "2024-12-17 00:00:00",
         "2024-01-29 00:00:00",
         "2009.4",
         "Cesya Boustead",
         "cboustead4@nps.gov",
         "2024",
         "12",
         "December",
         "0",
         "Weekday"
        ],
        [
         "5",
         "men",
         "pants",
         "154.12",
         "15.71",
         "Shufflebeat",
         "2023-03-24 00:00:00",
         "2022-01-03 00:00:00",
         "4343.05",
         "Rollo Beiderbecke",
         "rbeiderbecke5@upenn.edu",
         "2023",
         "3",
         "March",
         "0",
         "Weekday"
        ],
        [
         "6",
         "women",
         "shirts",
         "197.72",
         "4.93",
         "Gigaclub",
         "2024-03-28 00:00:00",
         "2022-03-17 00:00:00",
         "3365.54",
         "Anna-maria Milliere",
         "amilliere6@weibo.com",
         "2024",
         "3",
         "March",
         "3",
         "Weekday"
        ],
        [
         "7",
         "children",
         "pants",
         "76.62",
         "8.44",
         "Tazz",
         "2025-03-01 00:00:00",
         "2024-07-17 00:00:00",
         "1906.1",
         "Leeann Dossett",
         "ldossett7@omniture.com",
         "2025",
         "3",
         "March",
         "2",
         "Weekday"
        ],
        [
         "8",
         "women",
         "pants",
         "139.8",
         "6.76",
         "Mycat",
         "2024-08-07 00:00:00",
         "2022-10-01 00:00:00",
         "3735.92",
         "Idalina Klimas",
         "iklimas8@wiley.com",
         "2024",
         "8",
         "August",
         "5",
         "Weekend"
        ],
        [
         "9",
         "men",
         "accessories",
         "137.37",
         "13.81",
         "Zoomdog",
         "2022-05-17 00:00:00",
         "2023-06-01 00:00:00",
         "6348.41",
         "Dorothy Alfonsini",
         "dalfonsini9@youtu.be",
         "2022",
         "5",
         "May",
         "3",
         "Weekday"
        ],
        [
         "10",
         "men",
         "accessories",
         "62.52",
         "26.63",
         "Feedbug",
         "2023-05-10 00:00:00",
         "2022-11-14 00:00:00",
         "7900.39",
         "Charmaine Swatridge",
         "cswatridgea@mozilla.org",
         "2023",
         "5",
         "May",
         "0",
         "Weekday"
        ],
        [
         "11",
         "women",
         "shoes",
         "185.96",
         "0.9",
         "Skimia",
         "2025-01-31 00:00:00",
         "2023-02-16 00:00:00",
         "1971.21",
         "Palmer Hoggin",
         "phogginb@cpanel.net",
         "2025",
         "1",
         "January",
         "3",
         "Weekday"
        ],
        [
         "12",
         "men",
         "pants",
         "41.56",
         "19.18",
         "Thoughtstorm",
         "2022-04-26 00:00:00",
         "2022-12-26 00:00:00",
         "6860.26",
         "Jeffry Cuff",
         "jcuffc@scribd.com",
         "2022",
         "4",
         "April",
         "0",
         "Weekday"
        ],
        [
         "13",
         "women",
         "shoes",
         "56.09",
         "12.11",
         "Eare",
         "2024-11-30 00:00:00",
         "2022-04-18 00:00:00",
         "4574.48",
         "Kerrin Dickons",
         "kdickonsd@cyberchimps.com",
         "2024",
         "11",
         "November",
         "0",
         "Weekday"
        ],
        [
         "14",
         "children",
         "shoes",
         "93.37",
         "20.07",
         "Midel",
         "2022-09-26 00:00:00",
         "2024-02-24 00:00:00",
         "9793.02",
         "Laughton Menendez",
         "lmenendeze@kickstarter.com",
         "2022",
         "9",
         "September",
         "5",
         "Weekend"
        ],
        [
         "15",
         "children",
         "dresses",
         "78.27",
         "0.49",
         "Feedbug",
         "2022-12-18 00:00:00",
         "2023-05-12 00:00:00",
         "6874.89",
         "Corrina Greensted",
         "cgreenstedf@salon.com",
         "2022",
         "12",
         "December",
         "4",
         "Weekday"
        ],
        [
         "16",
         "men",
         "shoes",
         "56.5",
         "24.58",
         "Ntags",
         "2023-03-07 00:00:00",
         "2023-03-11 00:00:00",
         "5003.36",
         "Bel Oluwatoyin",
         "boluwatoying@bbb.org",
         "2023",
         "3",
         "March",
         "5",
         "Weekend"
        ],
        [
         "17",
         "women",
         "accessories",
         "189.63",
         "44.66",
         "Oba",
         "2022-10-15 00:00:00",
         "2022-04-23 00:00:00",
         "9455.11",
         "Crystal Fulleylove",
         "cfulleyloveh@creativecommons.org",
         "2022",
         "10",
         "October",
         "5",
         "Weekend"
        ],
        [
         "18",
         "children",
         "dresses",
         "93.89",
         "11.03",
         "Teklist",
         "2022-06-26 00:00:00",
         "2023-11-29 00:00:00",
         "579.59",
         "Chaunce Sporrij",
         "csporriji@360.cn",
         "2022",
         "6",
         "June",
         "2",
         "Weekday"
        ],
        [
         "19",
         "children",
         "shirts",
         "125.06",
         "29.45",
         "Jaxspan",
         "2022-03-02 00:00:00",
         "2023-03-27 00:00:00",
         "5026.23",
         "Kalila Charopen",
         "kcharopenj@sakura.ne.jp",
         "2022",
         "3",
         "March",
         "0",
         "Weekday"
        ],
        [
         "20",
         "women",
         "dresses",
         "157.63",
         "45.62",
         "Twinte",
         "2023-11-12 00:00:00",
         "2025-03-12 00:00:00",
         "2966.23",
         "Tymothy Sexton",
         "tsextonk@barnesandnoble.com",
         "2023",
         "11",
         "November",
         "2",
         "Weekday"
        ],
        [
         "21",
         "women",
         "dresses",
         "183.49",
         "25.14",
         "Youspan",
         "2022-07-01 00:00:00",
         "2023-11-22 00:00:00",
         "8723.35",
         "Cord Hoodspeth",
         "choodspethl@state.gov",
         "2022",
         "7",
         "July",
         "2",
         "Weekday"
        ],
        [
         "22",
         "children",
         "accessories",
         "21.91",
         "45.58",
         "Tavu",
         "2023-02-09 00:00:00",
         "2022-01-22 00:00:00",
         "8728.01",
         "Bonnie Halfhead",
         "bhalfheadm@google.it",
         "2023",
         "2",
         "February",
         "5",
         "Weekend"
        ],
        [
         "23",
         "children",
         "shoes",
         "108.7",
         "40.46",
         "Babbleopia",
         "2024-08-03 00:00:00",
         "2022-10-10 00:00:00",
         "3004.62",
         "Corey Robus",
         "crobusn@army.mil",
         "2024",
         "8",
         "August",
         "0",
         "Weekday"
        ],
        [
         "24",
         "men",
         "dresses",
         "131.43",
         "22.42",
         "Yodo",
         "2022-04-19 00:00:00",
         "2023-10-16 00:00:00",
         "7457.31",
         "Levin Lubbock",
         "llubbocko@marketwatch.com",
         "2022",
         "4",
         "April",
         "0",
         "Weekday"
        ],
        [
         "25",
         "children",
         "pants",
         "68.31",
         "7.59",
         "Divavu",
         "2022-06-11 00:00:00",
         "2025-03-24 00:00:00",
         "3959.59",
         "Jeno Leonard",
         "jleonardp@bloomberg.com",
         "2022",
         "6",
         "June",
         "0",
         "Weekday"
        ],
        [
         "26",
         "women",
         "accessories",
         "161.26",
         "44.2",
         "Eadel",
         "2022-09-22 00:00:00",
         "2024-07-12 00:00:00",
         "9163.15",
         "Obadias Rathmell",
         "orathmellq@photobucket.com",
         "2022",
         "9",
         "September",
         "4",
         "Weekday"
        ],
        [
         "27",
         "children",
         "accessories",
         "49.77",
         "24.83",
         "Teklist",
         "2025-03-27 00:00:00",
         "2024-06-09 00:00:00",
         "9139.56",
         "Elwira Duckett",
         "educkettr@wikispaces.com",
         "2025",
         "3",
         "March",
         "6",
         "Weekend"
        ],
        [
         "28",
         "men",
         "accessories",
         "194.37",
         "31.86",
         "Yamia",
         "2023-02-20 00:00:00",
         "2023-06-22 00:00:00",
         "5171.8",
         "Brod Sugarman",
         "bsugarmans@ifeng.com",
         "2023",
         "2",
         "February",
         "3",
         "Weekday"
        ],
        [
         "29",
         "children",
         "shoes",
         "53.8",
         "24.16",
         "Realcube",
         "2022-04-19 00:00:00",
         "2023-01-05 00:00:00",
         "5798.22",
         "Tandie Frances",
         "tfrancest@fc2.com",
         "2022",
         "4",
         "April",
         "3",
         "Weekday"
        ],
        [
         "30",
         "women",
         "shirts",
         "69.6",
         "13.51",
         "Skyvu",
         "2022-04-28 00:00:00",
         "2024-10-31 00:00:00",
         "2647.25",
         "Devon Niese",
         "dnieseu@qq.com",
         "2022",
         "4",
         "April",
         "3",
         "Weekday"
        ],
        [
         "31",
         "women",
         "dresses",
         "111.95",
         "36.99",
         "Flipstorm",
         "2022-02-24 00:00:00",
         "2023-09-08 00:00:00",
         "5255.26",
         "Pyotr Lemanu",
         "plemanuv@prlog.org",
         "2022",
         "2",
         "February",
         "4",
         "Weekday"
        ],
        [
         "32",
         "men",
         "dresses",
         "64.63",
         "4.64",
         "Tazz",
         "2022-11-23 00:00:00",
         "2025-03-08 00:00:00",
         "1477.89",
         "Serge Linger",
         "slingerw@usgs.gov",
         "2022",
         "11",
         "November",
         "5",
         "Weekend"
        ],
        [
         "33",
         "women",
         "shoes",
         "173.52",
         "49.76",
         "Topicstorm",
         "2023-10-02 00:00:00",
         "2023-08-20 00:00:00",
         "4265.66",
         "Valaree Denizet",
         "vdenizetx@fastcompany.com",
         "2023",
         "10",
         "October",
         "6",
         "Weekend"
        ],
        [
         "34",
         "men",
         "pants",
         "124.09",
         "49.51",
         "Kare",
         "2024-06-23 00:00:00",
         "2024-01-19 00:00:00",
         "5735.45",
         "Elwira Kirman",
         "ekirmany@elpais.com",
         "2024",
         "6",
         "June",
         "4",
         "Weekday"
        ],
        [
         "35",
         "men",
         "pants",
         "155.1",
         "20.53",
         "Brightdog",
         "2022-06-24 00:00:00",
         "2023-06-07 00:00:00",
         "8435.52",
         "Myriam Itzchaky",
         "mitzchakyz@vistaprint.com",
         "2022",
         "6",
         "June",
         "2",
         "Weekday"
        ],
        [
         "36",
         "children",
         "dresses",
         "136.31",
         "37.45",
         "Vidoo",
         "2022-08-02 00:00:00",
         "2023-10-25 00:00:00",
         "1894.25",
         "Daryn Spellard",
         "dspellard10@ebay.co.uk",
         "2022",
         "8",
         "August",
         "2",
         "Weekday"
        ],
        [
         "37",
         "men",
         "shoes",
         "56.17",
         "22.99",
         "Skippad",
         "2024-12-22 00:00:00",
         "2022-01-14 00:00:00",
         "2606.06",
         "Earlie Haskett",
         "ehaskett11@jalbum.net",
         "2024",
         "12",
         "December",
         "4",
         "Weekday"
        ],
        [
         "38",
         "women",
         "accessories",
         "127.61",
         "7.94",
         "Flashpoint",
         "2024-02-04 00:00:00",
         "2023-10-08 00:00:00",
         "5366.63",
         "Ardelis Hardesty",
         "ahardesty12@sourceforge.net",
         "2024",
         "2",
         "February",
         "6",
         "Weekend"
        ],
        [
         "39",
         "children",
         "dresses",
         "23.18",
         "13.7",
         "Dynazzy",
         "2022-10-05 00:00:00",
         "2022-09-16 00:00:00",
         "8873.5",
         "Gibby Jachimczak",
         "gjachimczak13@google.cn",
         "2022",
         "10",
         "October",
         "4",
         "Weekday"
        ],
        [
         "40",
         "men",
         "shoes",
         "66.46",
         "35.41",
         "Trunyx",
         "2022-02-25 00:00:00",
         "2024-03-10 00:00:00",
         "2344.62",
         "King Drysdall",
         "kdrysdall14@taobao.com",
         "2022",
         "2",
         "February",
         "6",
         "Weekend"
        ],
        [
         "41",
         "children",
         "shirts",
         "73.1",
         "31.72",
         "Yakitri",
         "2023-03-26 00:00:00",
         "2024-02-26 00:00:00",
         "1638.59",
         "Julia Durnin",
         "jdurnin15@usa.gov",
         "2023",
         "3",
         "March",
         "0",
         "Weekday"
        ],
        [
         "42",
         "children",
         "accessories",
         "96.72",
         "19.0",
         "Jatri",
         "2023-10-20 00:00:00",
         "2022-03-08 00:00:00",
         "4256.99",
         "Judas Hunstone",
         "jhunstone16@free.fr",
         "2023",
         "10",
         "October",
         "1",
         "Weekday"
        ],
        [
         "43",
         "children",
         "accessories",
         "47.06",
         "47.4",
         "Dynava",
         "2025-02-21 00:00:00",
         "2023-11-04 00:00:00",
         "249.27",
         "Anderea Demchen",
         "ademchen17@weibo.com",
         "2025",
         "2",
         "February",
         "5",
         "Weekend"
        ],
        [
         "44",
         "women",
         "shoes",
         "93.04",
         "29.6",
         "Mymm",
         "2022-07-28 00:00:00",
         "2023-01-23 00:00:00",
         "8341.79",
         "Shirley Denge",
         "sdenge18@admin.ch",
         "2022",
         "7",
         "July",
         "0",
         "Weekday"
        ],
        [
         "45",
         "men",
         "shoes",
         "124.25",
         "14.35",
         "Mydeo",
         "2025-02-19 00:00:00",
         "2022-04-08 00:00:00",
         "2816.04",
         "Irma O' Mullan",
         "io19@chicagotribune.com",
         "2025",
         "2",
         "February",
         "4",
         "Weekday"
        ],
        [
         "46",
         "children",
         "pants",
         "79.46",
         "25.46",
         "Dabshots",
         "2024-04-16 00:00:00",
         "2023-10-12 00:00:00",
         "6326.67",
         "Leonardo Wycherley",
         "lwycherley1a@creativecommons.org",
         "2024",
         "4",
         "April",
         "3",
         "Weekday"
        ],
        [
         "47",
         "children",
         "shoes",
         "24.73",
         "40.91",
         "Brightbean",
         "2022-05-09 00:00:00",
         "2024-05-10 00:00:00",
         "9926.56",
         "Brennen Lambirth",
         "blambirth1b@amazonaws.com",
         "2022",
         "5",
         "May",
         "4",
         "Weekday"
        ],
        [
         "48",
         "men",
         "shirts",
         "171.9",
         "43.21",
         "Rhynyx",
         "2023-04-03 00:00:00",
         "2023-02-06 00:00:00",
         "6206.91",
         "Bram Peery",
         "bpeery1c@latimes.com",
         "2023",
         "4",
         "April",
         "0",
         "Weekday"
        ],
        [
         "49",
         "women",
         "shoes",
         "116.71",
         "10.13",
         "Jayo",
         "2022-05-06 00:00:00",
         "2022-03-02 00:00:00",
         "9721.78",
         "Kassey Smidmore",
         "ksmidmore1d@webeden.co.uk",
         "2022",
         "5",
         "May",
         "2",
         "Weekday"
        ]
       ],
       "shape": {
        "columns": 15,
        "rows": 100
       }
      },
      "text/html": [
       "<div>\n",
       "<style scoped>\n",
       "    .dataframe tbody tr th:only-of-type {\n",
       "        vertical-align: middle;\n",
       "    }\n",
       "\n",
       "    .dataframe tbody tr th {\n",
       "        vertical-align: top;\n",
       "    }\n",
       "\n",
       "    .dataframe thead th {\n",
       "        text-align: right;\n",
       "    }\n",
       "</style>\n",
       "<table border=\"1\" class=\"dataframe\">\n",
       "  <thead>\n",
       "    <tr style=\"text-align: right;\">\n",
       "      <th></th>\n",
       "      <th>clothing_type</th>\n",
       "      <th>category</th>\n",
       "      <th>price</th>\n",
       "      <th>discount</th>\n",
       "      <th>shop_outlet</th>\n",
       "      <th>delivery_date</th>\n",
       "      <th>order_date</th>\n",
       "      <th>revenue</th>\n",
       "      <th>customer_name</th>\n",
       "      <th>customer_email</th>\n",
       "      <th>Year</th>\n",
       "      <th>Month Number</th>\n",
       "      <th>Month Name</th>\n",
       "      <th>Day of the Week</th>\n",
       "      <th>day_type</th>\n",
       "    </tr>\n",
       "  </thead>\n",
       "  <tbody>\n",
       "    <tr>\n",
       "      <th>0</th>\n",
       "      <td>men</td>\n",
       "      <td>accessories</td>\n",
       "      <td>113.84</td>\n",
       "      <td>6.15</td>\n",
       "      <td>Photobug</td>\n",
       "      <td>2022-06-20</td>\n",
       "      <td>2023-08-06</td>\n",
       "      <td>1102.01</td>\n",
       "      <td>Alfy Piborn</td>\n",
       "      <td>apiborn0@squarespace.com</td>\n",
       "      <td>2022</td>\n",
       "      <td>6</td>\n",
       "      <td>June</td>\n",
       "      <td>6</td>\n",
       "      <td>Weekend</td>\n",
       "    </tr>\n",
       "    <tr>\n",
       "      <th>1</th>\n",
       "      <td>men</td>\n",
       "      <td>accessories</td>\n",
       "      <td>60.62</td>\n",
       "      <td>49.47</td>\n",
       "      <td>Jetwire</td>\n",
       "      <td>2024-02-06</td>\n",
       "      <td>2022-01-01</td>\n",
       "      <td>5521.65</td>\n",
       "      <td>Demetra Stutely</td>\n",
       "      <td>dstutely1@wired.com</td>\n",
       "      <td>2024</td>\n",
       "      <td>2</td>\n",
       "      <td>February</td>\n",
       "      <td>5</td>\n",
       "      <td>Weekend</td>\n",
       "    </tr>\n",
       "    <tr>\n",
       "      <th>2</th>\n",
       "      <td>children</td>\n",
       "      <td>shirts</td>\n",
       "      <td>119.19</td>\n",
       "      <td>41.14</td>\n",
       "      <td>Edgewire</td>\n",
       "      <td>2022-06-03</td>\n",
       "      <td>2022-11-14</td>\n",
       "      <td>7252.86</td>\n",
       "      <td>Giselle Ruegg</td>\n",
       "      <td>gruegg2@weebly.com</td>\n",
       "      <td>2022</td>\n",
       "      <td>6</td>\n",
       "      <td>June</td>\n",
       "      <td>0</td>\n",
       "      <td>Weekday</td>\n",
       "    </tr>\n",
       "    <tr>\n",
       "      <th>3</th>\n",
       "      <td>men</td>\n",
       "      <td>shoes</td>\n",
       "      <td>43.19</td>\n",
       "      <td>12.50</td>\n",
       "      <td>Twitterbridge</td>\n",
       "      <td>2022-11-19</td>\n",
       "      <td>2024-08-01</td>\n",
       "      <td>4866.12</td>\n",
       "      <td>Sven Loughlin</td>\n",
       "      <td>sloughlin3@surveymonkey.com</td>\n",
       "      <td>2022</td>\n",
       "      <td>11</td>\n",
       "      <td>November</td>\n",
       "      <td>3</td>\n",
       "      <td>Weekday</td>\n",
       "    </tr>\n",
       "    <tr>\n",
       "      <th>4</th>\n",
       "      <td>women</td>\n",
       "      <td>accessories</td>\n",
       "      <td>116.46</td>\n",
       "      <td>28.74</td>\n",
       "      <td>Zoomlounge</td>\n",
       "      <td>2024-12-17</td>\n",
       "      <td>2024-01-29</td>\n",
       "      <td>2009.40</td>\n",
       "      <td>Cesya Boustead</td>\n",
       "      <td>cboustead4@nps.gov</td>\n",
       "      <td>2024</td>\n",
       "      <td>12</td>\n",
       "      <td>December</td>\n",
       "      <td>0</td>\n",
       "      <td>Weekday</td>\n",
       "    </tr>\n",
       "    <tr>\n",
       "      <th>...</th>\n",
       "      <td>...</td>\n",
       "      <td>...</td>\n",
       "      <td>...</td>\n",
       "      <td>...</td>\n",
       "      <td>...</td>\n",
       "      <td>...</td>\n",
       "      <td>...</td>\n",
       "      <td>...</td>\n",
       "      <td>...</td>\n",
       "      <td>...</td>\n",
       "      <td>...</td>\n",
       "      <td>...</td>\n",
       "      <td>...</td>\n",
       "      <td>...</td>\n",
       "      <td>...</td>\n",
       "    </tr>\n",
       "    <tr>\n",
       "      <th>95</th>\n",
       "      <td>children</td>\n",
       "      <td>shoes</td>\n",
       "      <td>108.38</td>\n",
       "      <td>5.82</td>\n",
       "      <td>Rhybox</td>\n",
       "      <td>2024-08-31</td>\n",
       "      <td>2023-01-01</td>\n",
       "      <td>5215.14</td>\n",
       "      <td>Vinni Rasch</td>\n",
       "      <td>vrasch2n@wunderground.com</td>\n",
       "      <td>2024</td>\n",
       "      <td>8</td>\n",
       "      <td>August</td>\n",
       "      <td>6</td>\n",
       "      <td>Weekend</td>\n",
       "    </tr>\n",
       "    <tr>\n",
       "      <th>96</th>\n",
       "      <td>men</td>\n",
       "      <td>shirts</td>\n",
       "      <td>188.96</td>\n",
       "      <td>17.87</td>\n",
       "      <td>Skimia</td>\n",
       "      <td>2023-11-23</td>\n",
       "      <td>2022-04-14</td>\n",
       "      <td>4898.09</td>\n",
       "      <td>Hazel Pinching</td>\n",
       "      <td>hpinching2o@si.edu</td>\n",
       "      <td>2023</td>\n",
       "      <td>11</td>\n",
       "      <td>November</td>\n",
       "      <td>3</td>\n",
       "      <td>Weekday</td>\n",
       "    </tr>\n",
       "    <tr>\n",
       "      <th>97</th>\n",
       "      <td>women</td>\n",
       "      <td>accessories</td>\n",
       "      <td>11.88</td>\n",
       "      <td>38.74</td>\n",
       "      <td>Kimia</td>\n",
       "      <td>2022-03-13</td>\n",
       "      <td>2023-06-15</td>\n",
       "      <td>3527.45</td>\n",
       "      <td>Rancell Cristofari</td>\n",
       "      <td>rcristofari2p@fda.gov</td>\n",
       "      <td>2022</td>\n",
       "      <td>3</td>\n",
       "      <td>March</td>\n",
       "      <td>3</td>\n",
       "      <td>Weekday</td>\n",
       "    </tr>\n",
       "    <tr>\n",
       "      <th>98</th>\n",
       "      <td>children</td>\n",
       "      <td>shoes</td>\n",
       "      <td>141.65</td>\n",
       "      <td>35.04</td>\n",
       "      <td>Flipbug</td>\n",
       "      <td>2022-03-13</td>\n",
       "      <td>2025-01-11</td>\n",
       "      <td>2663.98</td>\n",
       "      <td>Beulah Pawfoot</td>\n",
       "      <td>bpawfoot2q@amazon.de</td>\n",
       "      <td>2022</td>\n",
       "      <td>3</td>\n",
       "      <td>March</td>\n",
       "      <td>5</td>\n",
       "      <td>Weekend</td>\n",
       "    </tr>\n",
       "    <tr>\n",
       "      <th>99</th>\n",
       "      <td>women</td>\n",
       "      <td>shirts</td>\n",
       "      <td>169.94</td>\n",
       "      <td>10.59</td>\n",
       "      <td>Dynabox</td>\n",
       "      <td>2024-04-27</td>\n",
       "      <td>2022-07-15</td>\n",
       "      <td>7064.56</td>\n",
       "      <td>Cordelie Caitlin</td>\n",
       "      <td>ccaitlin2r@thetimes.co.uk</td>\n",
       "      <td>2024</td>\n",
       "      <td>4</td>\n",
       "      <td>April</td>\n",
       "      <td>4</td>\n",
       "      <td>Weekday</td>\n",
       "    </tr>\n",
       "  </tbody>\n",
       "</table>\n",
       "<p>100 rows × 15 columns</p>\n",
       "</div>"
      ],
      "text/plain": [
       "   clothing_type     category   price  discount    shop_outlet delivery_date  \\\n",
       "0            men  accessories  113.84      6.15       Photobug    2022-06-20   \n",
       "1            men  accessories   60.62     49.47        Jetwire    2024-02-06   \n",
       "2       children       shirts  119.19     41.14       Edgewire    2022-06-03   \n",
       "3            men        shoes   43.19     12.50  Twitterbridge    2022-11-19   \n",
       "4          women  accessories  116.46     28.74     Zoomlounge    2024-12-17   \n",
       "..           ...          ...     ...       ...            ...           ...   \n",
       "95      children        shoes  108.38      5.82         Rhybox    2024-08-31   \n",
       "96           men       shirts  188.96     17.87         Skimia    2023-11-23   \n",
       "97         women  accessories   11.88     38.74          Kimia    2022-03-13   \n",
       "98      children        shoes  141.65     35.04        Flipbug    2022-03-13   \n",
       "99         women       shirts  169.94     10.59        Dynabox    2024-04-27   \n",
       "\n",
       "   order_date  revenue       customer_name               customer_email  Year  \\\n",
       "0  2023-08-06  1102.01         Alfy Piborn     apiborn0@squarespace.com  2022   \n",
       "1  2022-01-01  5521.65     Demetra Stutely          dstutely1@wired.com  2024   \n",
       "2  2022-11-14  7252.86       Giselle Ruegg           gruegg2@weebly.com  2022   \n",
       "3  2024-08-01  4866.12       Sven Loughlin  sloughlin3@surveymonkey.com  2022   \n",
       "4  2024-01-29  2009.40      Cesya Boustead           cboustead4@nps.gov  2024   \n",
       "..        ...      ...                 ...                          ...   ...   \n",
       "95 2023-01-01  5215.14         Vinni Rasch    vrasch2n@wunderground.com  2024   \n",
       "96 2022-04-14  4898.09      Hazel Pinching           hpinching2o@si.edu  2023   \n",
       "97 2023-06-15  3527.45  Rancell Cristofari        rcristofari2p@fda.gov  2022   \n",
       "98 2025-01-11  2663.98      Beulah Pawfoot         bpawfoot2q@amazon.de  2022   \n",
       "99 2022-07-15  7064.56    Cordelie Caitlin    ccaitlin2r@thetimes.co.uk  2024   \n",
       "\n",
       "    Month Number Month Name  Day of the Week day_type  \n",
       "0              6       June                6  Weekend  \n",
       "1              2   February                5  Weekend  \n",
       "2              6       June                0  Weekday  \n",
       "3             11   November                3  Weekday  \n",
       "4             12   December                0  Weekday  \n",
       "..           ...        ...              ...      ...  \n",
       "95             8     August                6  Weekend  \n",
       "96            11   November                3  Weekday  \n",
       "97             3      March                3  Weekday  \n",
       "98             3      March                5  Weekend  \n",
       "99             4      April                4  Weekday  \n",
       "\n",
       "[100 rows x 15 columns]"
      ]
     },
     "execution_count": 30,
     "metadata": {},
     "output_type": "execute_result"
    }
   ],
   "source": [
    "df"
   ]
  },
  {
   "cell_type": "code",
   "execution_count": 31,
   "id": "ea6ee2a6",
   "metadata": {},
   "outputs": [],
   "source": [
    "df.to_csv('fashion_data.csv', index=False)"
   ]
  }
 ],
 "metadata": {
  "kernelspec": {
   "display_name": "Python 3",
   "language": "python",
   "name": "python3"
  },
  "language_info": {
   "codemirror_mode": {
    "name": "ipython",
    "version": 3
   },
   "file_extension": ".py",
   "mimetype": "text/x-python",
   "name": "python",
   "nbconvert_exporter": "python",
   "pygments_lexer": "ipython3",
   "version": "3.13.2"
  }
 },
 "nbformat": 4,
 "nbformat_minor": 5
}
